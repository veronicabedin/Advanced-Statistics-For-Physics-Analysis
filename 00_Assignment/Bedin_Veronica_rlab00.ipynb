{
 "cells": [
  {
   "cell_type": "code",
   "execution_count": 1,
   "id": "46b7b8f7-9955-4566-b33a-877427c4add1",
   "metadata": {
    "tags": []
   },
   "outputs": [
    {
     "name": "stdin",
     "output_type": "stream",
     "text": [
      "How many terms?  12\n"
     ]
    },
    {
     "name": "stdout",
     "output_type": "stream",
     "text": [
      "[1] \"Fibonacci sequence:\"\n",
      "[1] 0\n",
      "[1] 1\n",
      "[1] 1\n",
      "[1] 2\n",
      "[1] 3\n",
      "[1] 5\n",
      "[1] 8\n",
      "[1] 13\n",
      "[1] 21\n",
      "[1] 34\n",
      "[1] 55\n",
      "[1] 89\n"
     ]
    }
   ],
   "source": [
    "# take input from the user\n",
    "nterms = as.integer(readline(prompt=\"How many terms? \"))\n",
    "# first two terms\n",
    "n1 = 0\n",
    "n2 = 1\n",
    "count = 2\n",
    "# check if the number of terms is valid\n",
    "if(nterms <= 0) {\n",
    "print(\"Plese enter a positive integer\")\n",
    "} else {\n",
    "if(nterms == 1) {\n",
    "print(\"Fibonacci sequence:\")\n",
    "print(n1)\n",
    "} else {\n",
    "print(\"Fibonacci sequence:\")\n",
    "print(n1)\n",
    "print(n2)\n",
    "while(count < nterms) {\n",
    "nth = n1 + n2\n",
    "print(nth)\n",
    "# update values\n",
    "n1 = n2\n",
    "n2 = nth\n",
    "count = count + 1\n",
    "}\n",
    "}\n",
    "}"
   ]
  },
  {
   "cell_type": "code",
   "execution_count": null,
   "id": "565dec58-83c3-4b7a-839e-2b47ba07bd1c",
   "metadata": {},
   "outputs": [],
   "source": [
    "# take input from the user\n",
    "a = as.integer(readline(prompt=\"How many terms? \"))"
   ]
  }
 ],
 "metadata": {
  "kernelspec": {
   "display_name": "R",
   "language": "R",
   "name": "ir"
  },
  "language_info": {
   "codemirror_mode": "r",
   "file_extension": ".r",
   "mimetype": "text/x-r-source",
   "name": "R",
   "pygments_lexer": "r",
   "version": "4.2.3"
  }
 },
 "nbformat": 4,
 "nbformat_minor": 5
}
